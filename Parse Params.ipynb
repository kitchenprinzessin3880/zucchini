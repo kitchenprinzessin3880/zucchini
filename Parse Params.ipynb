{
 "cells": [
  {
   "cell_type": "code",
   "execution_count": 4,
   "metadata": {
    "collapsed": true
   },
   "outputs": [],
   "source": [
    "import csv\n",
    "import os.path\n",
    "import configparser as ConfigParser\n",
    "import pandas as pd\n",
    "import numpy as np\n",
    "import requests\n",
    "import csv\n",
    "import urllib.parse"
   ]
  },
  {
   "cell_type": "markdown",
   "metadata": {},
   "source": [
    "# Read Files"
   ]
  },
  {
   "cell_type": "code",
   "execution_count": 5,
   "metadata": {},
   "outputs": [
    {
     "data": {
      "text/plain": [
       "['C:\\\\Users\\\\asd\\\\python-workspace\\\\zucchini\\\\config\\\\zucchini.ini']"
      ]
     },
     "execution_count": 5,
     "metadata": {},
     "output_type": "execute_result"
    }
   ],
   "source": [
    "# These should be the full file paths or at least relative to the cwd\n",
    "file_cfg = ConfigParser.ConfigParser()\n",
    "file_cfg.read('C:\\\\Users\\\\asd\\\\python-workspace\\\\zucchini\\\\config\\\\zucchini.ini')"
   ]
  },
  {
   "cell_type": "code",
   "execution_count": 6,
   "metadata": {},
   "outputs": [
    {
     "data": {
      "text/plain": [
       "'C:\\\\Users\\\\asd\\\\python-workspace\\\\zucchini\\\\input\\\\PANGAEAParameterComplete.tab'"
      ]
     },
     "execution_count": 6,
     "metadata": {},
     "output_type": "execute_result"
    }
   ],
   "source": [
    "main_dir = os.path.dirname(os.getcwd())\n",
    "param_file = os.path.join(main_dir, file_cfg.get(\"Input\", \"input_file\"))\n",
    "param_file"
   ]
  },
  {
   "cell_type": "code",
   "execution_count": 7,
   "metadata": {},
   "outputs": [
    {
     "data": {
      "text/plain": [
       "'C:\\\\Users\\\\asd\\\\python-workspace\\\\zucchini'"
      ]
     },
     "execution_count": 7,
     "metadata": {},
     "output_type": "execute_result"
    }
   ],
   "source": [
    "main_dir"
   ]
  },
  {
   "cell_type": "code",
   "execution_count": 8,
   "metadata": {
    "collapsed": true
   },
   "outputs": [],
   "source": [
    "mapping_file = os.path.join(main_dir, file_cfg.get(\"Input\", \"mapping_file\"))"
   ]
  },
  {
   "cell_type": "code",
   "execution_count": 9,
   "metadata": {
    "collapsed": true
   },
   "outputs": [],
   "source": [
    "cols_params = ['Parameter', 'Abbreviation','Unit','ID parameter']"
   ]
  },
  {
   "cell_type": "code",
   "execution_count": 10,
   "metadata": {},
   "outputs": [
    {
     "data": {
      "text/html": [
       "<div>\n",
       "<style>\n",
       "    .dataframe thead tr:only-child th {\n",
       "        text-align: right;\n",
       "    }\n",
       "\n",
       "    .dataframe thead th {\n",
       "        text-align: left;\n",
       "    }\n",
       "\n",
       "    .dataframe tbody tr th {\n",
       "        vertical-align: top;\n",
       "    }\n",
       "</style>\n",
       "<table border=\"1\" class=\"dataframe\">\n",
       "  <thead>\n",
       "    <tr style=\"text-align: right;\">\n",
       "      <th></th>\n",
       "      <th>NativeUOM</th>\n",
       "      <th>UCUM</th>\n",
       "    </tr>\n",
       "  </thead>\n",
       "  <tbody>\n",
       "    <tr>\n",
       "      <th>0</th>\n",
       "      <td>#</td>\n",
       "      <td>#</td>\n",
       "    </tr>\n",
       "    <tr>\n",
       "      <th>1</th>\n",
       "      <td># of ions</td>\n",
       "      <td>#{ions}</td>\n",
       "    </tr>\n",
       "    <tr>\n",
       "      <th>2</th>\n",
       "      <td>#/#</td>\n",
       "      <td>#/#</td>\n",
       "    </tr>\n",
       "    <tr>\n",
       "      <th>3</th>\n",
       "      <td>#/#/day</td>\n",
       "      <td>#/#/d</td>\n",
       "    </tr>\n",
       "    <tr>\n",
       "      <th>4</th>\n",
       "      <td>#/#/h</td>\n",
       "      <td>#/#/h</td>\n",
       "    </tr>\n",
       "  </tbody>\n",
       "</table>\n",
       "</div>"
      ],
      "text/plain": [
       "   NativeUOM     UCUM\n",
       "0          #        #\n",
       "1  # of ions  #{ions}\n",
       "2        #/#      #/#\n",
       "3    #/#/day    #/#/d\n",
       "4      #/#/h    #/#/h"
      ]
     },
     "execution_count": 10,
     "metadata": {},
     "output_type": "execute_result"
    }
   ],
   "source": [
    "df_mapping = pd.read_csv(mapping_file, header=None, delimiter=\"\\t\", encoding='ISO-8859-1',names = [\"NativeUOM\", \"UCUM\"])\n",
    "df_mapping.head()"
   ]
  },
  {
   "cell_type": "code",
   "execution_count": 11,
   "metadata": {},
   "outputs": [
    {
     "name": "stdout",
     "output_type": "stream",
     "text": [
      "<class 'pandas.core.frame.DataFrame'>\n",
      "RangeIndex: 1247 entries, 0 to 1246\n",
      "Data columns (total 2 columns):\n",
      "NativeUOM    1247 non-null object\n",
      "UCUM         1247 non-null object\n",
      "dtypes: object(2)\n",
      "memory usage: 19.6+ KB\n"
     ]
    }
   ],
   "source": [
    "df_mapping.info()"
   ]
  },
  {
   "cell_type": "code",
   "execution_count": 12,
   "metadata": {},
   "outputs": [
    {
     "data": {
      "text/plain": [
       "NativeUOM    1247\n",
       "UCUM         1206\n",
       "dtype: int64"
      ]
     },
     "execution_count": 12,
     "metadata": {},
     "output_type": "execute_result"
    }
   ],
   "source": [
    "df_mapping.nunique()"
   ]
  },
  {
   "cell_type": "code",
   "execution_count": 13,
   "metadata": {},
   "outputs": [
    {
     "data": {
      "text/html": [
       "<div>\n",
       "<style>\n",
       "    .dataframe thead tr:only-child th {\n",
       "        text-align: right;\n",
       "    }\n",
       "\n",
       "    .dataframe thead th {\n",
       "        text-align: left;\n",
       "    }\n",
       "\n",
       "    .dataframe tbody tr th {\n",
       "        vertical-align: top;\n",
       "    }\n",
       "</style>\n",
       "<table border=\"1\" class=\"dataframe\">\n",
       "  <thead>\n",
       "    <tr style=\"text-align: right;\">\n",
       "      <th></th>\n",
       "      <th>NativeUOM</th>\n",
       "      <th>UCUM</th>\n",
       "    </tr>\n",
       "  </thead>\n",
       "  <tbody>\n",
       "    <tr>\n",
       "      <th>52</th>\n",
       "      <td>#/mm**2</td>\n",
       "      <td>#/mm2</td>\n",
       "    </tr>\n",
       "    <tr>\n",
       "      <th>53</th>\n",
       "      <td>#/mm*2</td>\n",
       "      <td>#/mm2</td>\n",
       "    </tr>\n",
       "    <tr>\n",
       "      <th>123</th>\n",
       "      <td>10**-6 A m**2/kg</td>\n",
       "      <td>(10^-6.A).m2/kg</td>\n",
       "    </tr>\n",
       "    <tr>\n",
       "      <th>125</th>\n",
       "      <td>10**-6 A*m**2/kg</td>\n",
       "      <td>(10^-6.A).m2/kg</td>\n",
       "    </tr>\n",
       "    <tr>\n",
       "      <th>621</th>\n",
       "      <td>mA m**2/kg</td>\n",
       "      <td>(mA.m2)/kg</td>\n",
       "    </tr>\n",
       "  </tbody>\n",
       "</table>\n",
       "</div>"
      ],
      "text/plain": [
       "            NativeUOM             UCUM\n",
       "52            #/mm**2            #/mm2\n",
       "53             #/mm*2            #/mm2\n",
       "123  10**-6 A m**2/kg  (10^-6.A).m2/kg\n",
       "125  10**-6 A*m**2/kg  (10^-6.A).m2/kg\n",
       "621        mA m**2/kg       (mA.m2)/kg"
      ]
     },
     "execution_count": 13,
     "metadata": {},
     "output_type": "execute_result"
    }
   ],
   "source": [
    "pd.concat(g for _, g in df_mapping.groupby(\"UCUM\") if len(g) > 1).head()"
   ]
  },
  {
   "cell_type": "code",
   "execution_count": 14,
   "metadata": {
    "collapsed": true
   },
   "outputs": [],
   "source": [
    "df = pd.read_csv(param_file, header=0, usecols=cols_params, delimiter=\"\\t\", encoding='utf-8')"
   ]
  },
  {
   "cell_type": "code",
   "execution_count": 15,
   "metadata": {},
   "outputs": [
    {
     "data": {
      "text/html": [
       "<div>\n",
       "<style>\n",
       "    .dataframe thead tr:only-child th {\n",
       "        text-align: right;\n",
       "    }\n",
       "\n",
       "    .dataframe thead th {\n",
       "        text-align: left;\n",
       "    }\n",
       "\n",
       "    .dataframe tbody tr th {\n",
       "        vertical-align: top;\n",
       "    }\n",
       "</style>\n",
       "<table border=\"1\" class=\"dataframe\">\n",
       "  <thead>\n",
       "    <tr style=\"text-align: right;\">\n",
       "      <th></th>\n",
       "      <th>Parameter</th>\n",
       "      <th>Abbreviation</th>\n",
       "      <th>Unit</th>\n",
       "      <th>ID parameter</th>\n",
       "    </tr>\n",
       "  </thead>\n",
       "  <tbody>\n",
       "    <tr>\n",
       "      <th>0</th>\n",
       "      <td>-</td>\n",
       "      <td>NaN</td>\n",
       "      <td>NaN</td>\n",
       "      <td>16431</td>\n",
       "    </tr>\n",
       "    <tr>\n",
       "      <th>1</th>\n",
       "      <td>-</td>\n",
       "      <td>NaN</td>\n",
       "      <td>NaN</td>\n",
       "      <td>16432</td>\n",
       "    </tr>\n",
       "    <tr>\n",
       "      <th>2</th>\n",
       "      <td>10:2 fluorotelomer alcohol</td>\n",
       "      <td>10:2 FTOH</td>\n",
       "      <td>pg/m**3</td>\n",
       "      <td>53014</td>\n",
       "    </tr>\n",
       "    <tr>\n",
       "      <th>3</th>\n",
       "      <td>10:2 fluorotelomer alcohol</td>\n",
       "      <td>10-2FTOH</td>\n",
       "      <td>pg/l</td>\n",
       "      <td>159280</td>\n",
       "    </tr>\n",
       "    <tr>\n",
       "      <th>4</th>\n",
       "      <td>10-Methyldodecanoic acid, particulate</td>\n",
       "      <td>10-methyllauric acid part</td>\n",
       "      <td>nmol/l</td>\n",
       "      <td>30245</td>\n",
       "    </tr>\n",
       "  </tbody>\n",
       "</table>\n",
       "</div>"
      ],
      "text/plain": [
       "                               Parameter               Abbreviation     Unit  \\\n",
       "0                                      -                        NaN      NaN   \n",
       "1                                      -                        NaN      NaN   \n",
       "2             10:2 fluorotelomer alcohol                  10:2 FTOH  pg/m**3   \n",
       "3             10:2 fluorotelomer alcohol                   10-2FTOH     pg/l   \n",
       "4  10-Methyldodecanoic acid, particulate  10-methyllauric acid part   nmol/l   \n",
       "\n",
       "   ID parameter  \n",
       "0         16431  \n",
       "1         16432  \n",
       "2         53014  \n",
       "3        159280  \n",
       "4         30245  "
      ]
     },
     "execution_count": 15,
     "metadata": {},
     "output_type": "execute_result"
    }
   ],
   "source": [
    "df.head()"
   ]
  },
  {
   "cell_type": "code",
   "execution_count": 16,
   "metadata": {},
   "outputs": [
    {
     "name": "stdout",
     "output_type": "stream",
     "text": [
      "<class 'pandas.core.frame.DataFrame'>\n",
      "RangeIndex: 158025 entries, 0 to 158024\n",
      "Data columns (total 4 columns):\n",
      "Parameter       158025 non-null object\n",
      "Abbreviation    158022 non-null object\n",
      "Unit            122269 non-null object\n",
      "ID parameter    158025 non-null int64\n",
      "dtypes: int64(1), object(3)\n",
      "memory usage: 4.8+ MB\n"
     ]
    }
   ],
   "source": [
    "df.info()"
   ]
  },
  {
   "cell_type": "code",
   "execution_count": 17,
   "metadata": {
    "collapsed": true
   },
   "outputs": [],
   "source": [
    "#remove lines with no parameter\n",
    "df = df[df.Parameter != '-']"
   ]
  },
  {
   "cell_type": "code",
   "execution_count": 18,
   "metadata": {},
   "outputs": [
    {
     "data": {
      "text/html": [
       "<div>\n",
       "<style>\n",
       "    .dataframe thead tr:only-child th {\n",
       "        text-align: right;\n",
       "    }\n",
       "\n",
       "    .dataframe thead th {\n",
       "        text-align: left;\n",
       "    }\n",
       "\n",
       "    .dataframe tbody tr th {\n",
       "        vertical-align: top;\n",
       "    }\n",
       "</style>\n",
       "<table border=\"1\" class=\"dataframe\">\n",
       "  <thead>\n",
       "    <tr style=\"text-align: right;\">\n",
       "      <th></th>\n",
       "      <th>Parameter</th>\n",
       "      <th>Abbreviation</th>\n",
       "      <th>Unit</th>\n",
       "      <th>ID parameter</th>\n",
       "    </tr>\n",
       "  </thead>\n",
       "  <tbody>\n",
       "    <tr>\n",
       "      <th>2</th>\n",
       "      <td>10:2 fluorotelomer alcohol</td>\n",
       "      <td>10:2 FTOH</td>\n",
       "      <td>pg/m**3</td>\n",
       "      <td>53014</td>\n",
       "    </tr>\n",
       "    <tr>\n",
       "      <th>3</th>\n",
       "      <td>10:2 fluorotelomer alcohol</td>\n",
       "      <td>10-2FTOH</td>\n",
       "      <td>pg/l</td>\n",
       "      <td>159280</td>\n",
       "    </tr>\n",
       "  </tbody>\n",
       "</table>\n",
       "</div>"
      ],
      "text/plain": [
       "                    Parameter Abbreviation     Unit  ID parameter\n",
       "2  10:2 fluorotelomer alcohol    10:2 FTOH  pg/m**3         53014\n",
       "3  10:2 fluorotelomer alcohol     10-2FTOH     pg/l        159280"
      ]
     },
     "execution_count": 18,
     "metadata": {},
     "output_type": "execute_result"
    }
   ],
   "source": [
    "df.head(2)"
   ]
  },
  {
   "cell_type": "code",
   "execution_count": 19,
   "metadata": {},
   "outputs": [
    {
     "data": {
      "text/plain": [
       "False"
      ]
     },
     "execution_count": 19,
     "metadata": {},
     "output_type": "execute_result"
    }
   ],
   "source": [
    "'nan' in df.Unit.values"
   ]
  },
  {
   "cell_type": "code",
   "execution_count": 20,
   "metadata": {},
   "outputs": [
    {
     "name": "stdout",
     "output_type": "stream",
     "text": [
      "<class 'pandas.core.frame.DataFrame'>\n",
      "Int64Index: 158023 entries, 2 to 158024\n",
      "Data columns (total 4 columns):\n",
      "Parameter       158023 non-null object\n",
      "Abbreviation    158022 non-null object\n",
      "Unit            122269 non-null object\n",
      "ID parameter    158023 non-null int64\n",
      "dtypes: int64(1), object(3)\n",
      "memory usage: 6.0+ MB\n"
     ]
    }
   ],
   "source": [
    "df.info()"
   ]
  },
  {
   "cell_type": "code",
   "execution_count": 21,
   "metadata": {},
   "outputs": [
    {
     "data": {
      "text/plain": [
       "Parameter       127375\n",
       "Abbreviation    119256\n",
       "Unit              1337\n",
       "ID parameter    158023\n",
       "dtype: int64"
      ]
     },
     "execution_count": 21,
     "metadata": {},
     "output_type": "execute_result"
    }
   ],
   "source": [
    "#List unique values each cols\n",
    "df.nunique()"
   ]
  },
  {
   "cell_type": "code",
   "execution_count": 22,
   "metadata": {},
   "outputs": [
    {
     "data": {
      "text/plain": [
       "array(['pg/m**3', 'pg/l', 'nmol/l', 'µg/g', 'per mil PDB', '%', 'pptv',\n",
       "       'ng/g', 'pmol/l', 'ng/l', 'pg/g', nan, 'ppbv', 'pg/ml', 'nmol/kg',\n",
       "       'ng/NT', 'per mil', 'µg C/l/day', 'mg C/kg/day', 'nmol/l/day'], dtype=object)"
      ]
     },
     "execution_count": 22,
     "metadata": {},
     "output_type": "execute_result"
    }
   ],
   "source": [
    "df.Unit.unique()[:20]"
   ]
  },
  {
   "cell_type": "code",
   "execution_count": 23,
   "metadata": {},
   "outputs": [
    {
     "data": {
      "text/plain": [
       "True"
      ]
     },
     "execution_count": 23,
     "metadata": {},
     "output_type": "execute_result"
    }
   ],
   "source": [
    "df.Unit.isnull().values.any()"
   ]
  },
  {
   "cell_type": "code",
   "execution_count": 24,
   "metadata": {
    "collapsed": true
   },
   "outputs": [],
   "source": [
    "list_of_uom= df.Unit.dropna().unique()"
   ]
  },
  {
   "cell_type": "code",
   "execution_count": 25,
   "metadata": {},
   "outputs": [
    {
     "data": {
      "text/html": [
       "<div>\n",
       "<style>\n",
       "    .dataframe thead tr:only-child th {\n",
       "        text-align: right;\n",
       "    }\n",
       "\n",
       "    .dataframe thead th {\n",
       "        text-align: left;\n",
       "    }\n",
       "\n",
       "    .dataframe tbody tr th {\n",
       "        vertical-align: top;\n",
       "    }\n",
       "</style>\n",
       "<table border=\"1\" class=\"dataframe\">\n",
       "  <thead>\n",
       "    <tr style=\"text-align: right;\">\n",
       "      <th></th>\n",
       "      <th>Parameter</th>\n",
       "      <th>Abbreviation</th>\n",
       "      <th>Unit</th>\n",
       "      <th>ID parameter</th>\n",
       "      <th>QuantityKind</th>\n",
       "    </tr>\n",
       "  </thead>\n",
       "  <tbody>\n",
       "    <tr>\n",
       "      <th>2</th>\n",
       "      <td>10:2 fluorotelomer alcohol</td>\n",
       "      <td>10:2 FTOH</td>\n",
       "      <td>pg/m**3</td>\n",
       "      <td>53014</td>\n",
       "      <td>NaN</td>\n",
       "    </tr>\n",
       "    <tr>\n",
       "      <th>3</th>\n",
       "      <td>10:2 fluorotelomer alcohol</td>\n",
       "      <td>10-2FTOH</td>\n",
       "      <td>pg/l</td>\n",
       "      <td>159280</td>\n",
       "      <td>NaN</td>\n",
       "    </tr>\n",
       "  </tbody>\n",
       "</table>\n",
       "</div>"
      ],
      "text/plain": [
       "                    Parameter Abbreviation     Unit  ID parameter  \\\n",
       "2  10:2 fluorotelomer alcohol    10:2 FTOH  pg/m**3         53014   \n",
       "3  10:2 fluorotelomer alcohol     10-2FTOH     pg/l        159280   \n",
       "\n",
       "   QuantityKind  \n",
       "2           NaN  \n",
       "3           NaN  "
      ]
     },
     "execution_count": 25,
     "metadata": {},
     "output_type": "execute_result"
    }
   ],
   "source": [
    "df[\"QuantityKind\"] = np.nan\n",
    "df.head(2)"
   ]
  },
  {
   "cell_type": "markdown",
   "metadata": {},
   "source": [
    "# Clean UoM based on the mapping file"
   ]
  },
  {
   "cell_type": "code",
   "execution_count": 26,
   "metadata": {
    "collapsed": true
   },
   "outputs": [],
   "source": [
    "matched_uom = []\n",
    "def validate_units(uom):\n",
    "    valid_uom = np.nan\n",
    "    new_uom = df_mapping.loc[df_mapping['NativeUOM'] == uom, 'UCUM']\n",
    "    if not new_uom.empty:\n",
    "        valid_uom = new_uom.iloc[0]\n",
    "        matched_uom.append(uom)\n",
    "    return valid_uom"
   ]
  },
  {
   "cell_type": "code",
   "execution_count": 27,
   "metadata": {
    "collapsed": true
   },
   "outputs": [],
   "source": [
    "for uom_ori in list_of_uom:\n",
    "    uom_ucum = validate_units(uom_ori)\n",
    "    if uom_ucum is not None:\n",
    "        df.loc[df.Unit == uom_ori, 'Unit'] = uom_ucum"
   ]
  },
  {
   "cell_type": "code",
   "execution_count": 28,
   "metadata": {},
   "outputs": [
    {
     "name": "stdout",
     "output_type": "stream",
     "text": [
      "Total robert mappings:  1247\n",
      "Total matched units:  1226 1226\n"
     ]
    }
   ],
   "source": [
    "total_exist_mapping = df_mapping.NativeUOM.nunique()\n",
    "print('Total robert mappings: ',total_exist_mapping)\n",
    "print('Total matched units: ',len(matched_uom), len(set(matched_uom)))"
   ]
  },
  {
   "cell_type": "code",
   "execution_count": 29,
   "metadata": {},
   "outputs": [
    {
     "name": "stdout",
     "output_type": "stream",
     "text": [
      "unused uom mappings:\n"
     ]
    },
    {
     "data": {
      "text/plain": [
       "['(g C)/(g Chl a)/E',\n",
       " 'µC/(µE/m**2/s)/mg Chl/h',\n",
       " 'years',\n",
       " 'ppm',\n",
       " 'µmol/g/d',\n",
       " 'ppt',\n",
       " 'fmol/g',\n",
       " 'mg/(µE/m**2/s)/mg Chl/h',\n",
       " '#/m**/d',\n",
       " 'µg/m**/day',\n",
       " 'gpm',\n",
       " 'deg s',\n",
       " 'mg/mg Chl a/h',\n",
       " 'µmol/m**2/d',\n",
       " 'nl C/dm**3/day',\n",
       " 'Ohmm',\n",
       " '(mg/mg/h)/(µmol/m**2/s)',\n",
       " 'mBq/cm**2',\n",
       " 'per mil CTD',\n",
       " 'µE/m**2',\n",
       " 'µE/m**2/s']"
      ]
     },
     "execution_count": 29,
     "metadata": {},
     "output_type": "execute_result"
    }
   ],
   "source": [
    "print('unused uom mappings:')\n",
    "list(set(df_mapping.NativeUOM.unique()) - set(matched_uom))"
   ]
  },
  {
   "cell_type": "code",
   "execution_count": 44,
   "metadata": {},
   "outputs": [
    {
     "data": {
      "text/html": [
       "<div>\n",
       "<style>\n",
       "    .dataframe thead tr:only-child th {\n",
       "        text-align: right;\n",
       "    }\n",
       "\n",
       "    .dataframe thead th {\n",
       "        text-align: left;\n",
       "    }\n",
       "\n",
       "    .dataframe tbody tr th {\n",
       "        vertical-align: top;\n",
       "    }\n",
       "</style>\n",
       "<table border=\"1\" class=\"dataframe\">\n",
       "  <thead>\n",
       "    <tr style=\"text-align: right;\">\n",
       "      <th></th>\n",
       "      <th>Parameter</th>\n",
       "      <th>Abbreviation</th>\n",
       "      <th>Unit</th>\n",
       "      <th>ID parameter</th>\n",
       "      <th>QuantityKind</th>\n",
       "    </tr>\n",
       "  </thead>\n",
       "  <tbody>\n",
       "    <tr>\n",
       "      <th>2</th>\n",
       "      <td>10:2 fluorotelomer alcohol</td>\n",
       "      <td>10:2 FTOH</td>\n",
       "      <td>pg/m3</td>\n",
       "      <td>53014</td>\n",
       "      <td>Density</td>\n",
       "    </tr>\n",
       "    <tr>\n",
       "      <th>3</th>\n",
       "      <td>10:2 fluorotelomer alcohol</td>\n",
       "      <td>10-2FTOH</td>\n",
       "      <td>pg/l</td>\n",
       "      <td>159280</td>\n",
       "      <td>Density</td>\n",
       "    </tr>\n",
       "    <tr>\n",
       "      <th>4</th>\n",
       "      <td>10-Methyldodecanoic acid, particulate</td>\n",
       "      <td>10-methyllauric acid part</td>\n",
       "      <td>nmol/l</td>\n",
       "      <td>30245</td>\n",
       "      <td>Amount of Substance Per Unit Volume,Molar Conc...</td>\n",
       "    </tr>\n",
       "    <tr>\n",
       "      <th>5</th>\n",
       "      <td>10-methyl-Hexadecanoic acid</td>\n",
       "      <td>10Me-C16:0</td>\n",
       "      <td>ug/g</td>\n",
       "      <td>46516</td>\n",
       "      <td>Dimensionless</td>\n",
       "    </tr>\n",
       "    <tr>\n",
       "      <th>6</th>\n",
       "      <td>10-methyl-Hexadecanoic acid, d13C</td>\n",
       "      <td>10Me-C16:0 d13C</td>\n",
       "      <td>[per_mil]{PDB}</td>\n",
       "      <td>46530</td>\n",
       "      <td>Dimensionless</td>\n",
       "    </tr>\n",
       "    <tr>\n",
       "      <th>7</th>\n",
       "      <td>10-methyl-Hexadecanoic acid of total fatty acids</td>\n",
       "      <td>10me16:0</td>\n",
       "      <td>%</td>\n",
       "      <td>97842</td>\n",
       "      <td>Dimensionless</td>\n",
       "    </tr>\n",
       "    <tr>\n",
       "      <th>8</th>\n",
       "      <td>10-methyl-Octadecanoic acid of total fatty acids</td>\n",
       "      <td>10me18:0</td>\n",
       "      <td>%</td>\n",
       "      <td>97853</td>\n",
       "      <td>Dimensionless</td>\n",
       "    </tr>\n",
       "    <tr>\n",
       "      <th>9</th>\n",
       "      <td>10-methyl-pentadecanoic acid of total fatty acids</td>\n",
       "      <td>10me15:0</td>\n",
       "      <td>%</td>\n",
       "      <td>97840</td>\n",
       "      <td>Dimensionless</td>\n",
       "    </tr>\n",
       "    <tr>\n",
       "      <th>10</th>\n",
       "      <td>10-methyl-tetradecanoic acid of total fatty acids</td>\n",
       "      <td>10me14:0</td>\n",
       "      <td>%</td>\n",
       "      <td>97837</td>\n",
       "      <td>Dimensionless</td>\n",
       "    </tr>\n",
       "    <tr>\n",
       "      <th>11</th>\n",
       "      <td>11,12-methylene-Hexadecanoic acid</td>\n",
       "      <td>cyC17:0w5,6</td>\n",
       "      <td>ug/g</td>\n",
       "      <td>46518</td>\n",
       "      <td>Dimensionless</td>\n",
       "    </tr>\n",
       "  </tbody>\n",
       "</table>\n",
       "</div>"
      ],
      "text/plain": [
       "                                            Parameter  \\\n",
       "2                          10:2 fluorotelomer alcohol   \n",
       "3                          10:2 fluorotelomer alcohol   \n",
       "4               10-Methyldodecanoic acid, particulate   \n",
       "5                         10-methyl-Hexadecanoic acid   \n",
       "6                   10-methyl-Hexadecanoic acid, d13C   \n",
       "7    10-methyl-Hexadecanoic acid of total fatty acids   \n",
       "8    10-methyl-Octadecanoic acid of total fatty acids   \n",
       "9   10-methyl-pentadecanoic acid of total fatty acids   \n",
       "10  10-methyl-tetradecanoic acid of total fatty acids   \n",
       "11                  11,12-methylene-Hexadecanoic acid   \n",
       "\n",
       "                 Abbreviation            Unit  ID parameter  \\\n",
       "2                   10:2 FTOH           pg/m3         53014   \n",
       "3                    10-2FTOH            pg/l        159280   \n",
       "4   10-methyllauric acid part          nmol/l         30245   \n",
       "5                  10Me-C16:0            ug/g         46516   \n",
       "6             10Me-C16:0 d13C  [per_mil]{PDB}         46530   \n",
       "7                    10me16:0               %         97842   \n",
       "8                    10me18:0               %         97853   \n",
       "9                    10me15:0               %         97840   \n",
       "10                   10me14:0               %         97837   \n",
       "11                cyC17:0w5,6            ug/g         46518   \n",
       "\n",
       "                                         QuantityKind  \n",
       "2                                             Density  \n",
       "3                                             Density  \n",
       "4   Amount of Substance Per Unit Volume,Molar Conc...  \n",
       "5                                       Dimensionless  \n",
       "6                                       Dimensionless  \n",
       "7                                       Dimensionless  \n",
       "8                                       Dimensionless  \n",
       "9                                       Dimensionless  \n",
       "10                                      Dimensionless  \n",
       "11                                      Dimensionless  "
      ]
     },
     "execution_count": 44,
     "metadata": {},
     "output_type": "execute_result"
    }
   ],
   "source": [
    "df.head(10)"
   ]
  },
  {
   "cell_type": "markdown",
   "metadata": {},
   "source": [
    "# Update Quantity Kind"
   ]
  },
  {
   "cell_type": "code",
   "execution_count": 31,
   "metadata": {
    "collapsed": true,
    "scrolled": true
   },
   "outputs": [],
   "source": [
    "uom_not_found =[]\n",
    "uom_empty_result =[]\n",
    "quantity_null=[]\n",
    "list_of_uom_updated= df.Unit.dropna().unique()\n",
    "for u in list_of_uom_updated:\n",
    "    q = 'http://dataportals.pangaea.de/test/ucum/?ucum='+ str(u)\n",
    "    resp = requests.get(q)\n",
    "    if '\"input\":' in resp.text:\n",
    "        data = resp.json()\n",
    "        if 'error:' in resp.text:\n",
    "            uom_not_found.append(u)\n",
    "        else:\n",
    "            if 'Quantities' in data:\n",
    "                quantity = data['Quantities']\n",
    "            else:\n",
    "                quantity = data['quantities']\n",
    "            if(quantity):\n",
    "                quantity_str = ','.join(quantity)\n",
    "                df.loc[df.Unit == u, 'QuantityKind'] = quantity_str\n",
    "            else:\n",
    "                quantity_null.append(u)\n",
    "    else:\n",
    "        uom_empty_result.append(u)"
   ]
  },
  {
   "cell_type": "code",
   "execution_count": 32,
   "metadata": {},
   "outputs": [
    {
     "data": {
      "text/plain": [
       "(131, 131, ['[pptv]', 'pmol/#', 'mg/#/h', 'J/#/h', '10^6.#/g', '10^6.#/m2/d'])"
      ]
     },
     "execution_count": 32,
     "metadata": {},
     "output_type": "execute_result"
    }
   ],
   "source": [
    "len(uom_not_found),len(set(uom_not_found)),uom_not_found[:6]"
   ]
  },
  {
   "cell_type": "code",
   "execution_count": 33,
   "metadata": {},
   "outputs": [
    {
     "data": {
      "text/plain": [
       "(73, ['#/cm3', '#', '#/g', '#/(10.cm3)', '#/cm2/a', '#/(50.cm3)'])"
      ]
     },
     "execution_count": 33,
     "metadata": {},
     "output_type": "execute_result"
    }
   ],
   "source": [
    "len(uom_empty_result),uom_empty_result[:6]"
   ]
  },
  {
   "cell_type": "code",
   "execution_count": 34,
   "metadata": {},
   "outputs": [
    {
     "data": {
      "text/plain": [
       "(180,\n",
       " ['ug{C}/l/d',\n",
       "  'ng/l/d',\n",
       "  '10^6.[ru]/g',\n",
       "  '[dpm]/cm2/ka',\n",
       "  '[meq]/kg',\n",
       "  '[dpm]/m3'])"
      ]
     },
     "execution_count": 34,
     "metadata": {},
     "output_type": "execute_result"
    }
   ],
   "source": [
    "len(quantity_null), quantity_null[:6]"
   ]
  },
  {
   "cell_type": "code",
   "execution_count": 35,
   "metadata": {
    "scrolled": true
   },
   "outputs": [
    {
     "data": {
      "text/html": [
       "<div>\n",
       "<style>\n",
       "    .dataframe thead tr:only-child th {\n",
       "        text-align: right;\n",
       "    }\n",
       "\n",
       "    .dataframe thead th {\n",
       "        text-align: left;\n",
       "    }\n",
       "\n",
       "    .dataframe tbody tr th {\n",
       "        vertical-align: top;\n",
       "    }\n",
       "</style>\n",
       "<table border=\"1\" class=\"dataframe\">\n",
       "  <thead>\n",
       "    <tr style=\"text-align: right;\">\n",
       "      <th></th>\n",
       "      <th>Parameter</th>\n",
       "      <th>Abbreviation</th>\n",
       "      <th>Unit</th>\n",
       "      <th>ID parameter</th>\n",
       "      <th>QuantityKind</th>\n",
       "    </tr>\n",
       "  </thead>\n",
       "  <tbody>\n",
       "    <tr>\n",
       "      <th>2</th>\n",
       "      <td>10:2 fluorotelomer alcohol</td>\n",
       "      <td>10:2 FTOH</td>\n",
       "      <td>pg/m3</td>\n",
       "      <td>53014</td>\n",
       "      <td>Density</td>\n",
       "    </tr>\n",
       "    <tr>\n",
       "      <th>3</th>\n",
       "      <td>10:2 fluorotelomer alcohol</td>\n",
       "      <td>10-2FTOH</td>\n",
       "      <td>pg/l</td>\n",
       "      <td>159280</td>\n",
       "      <td>Density</td>\n",
       "    </tr>\n",
       "    <tr>\n",
       "      <th>4</th>\n",
       "      <td>10-Methyldodecanoic acid, particulate</td>\n",
       "      <td>10-methyllauric acid part</td>\n",
       "      <td>nmol/l</td>\n",
       "      <td>30245</td>\n",
       "      <td>Amount of Substance Per Unit Volume,Molar Conc...</td>\n",
       "    </tr>\n",
       "    <tr>\n",
       "      <th>5</th>\n",
       "      <td>10-methyl-Hexadecanoic acid</td>\n",
       "      <td>10Me-C16:0</td>\n",
       "      <td>ug/g</td>\n",
       "      <td>46516</td>\n",
       "      <td>Dimensionless</td>\n",
       "    </tr>\n",
       "    <tr>\n",
       "      <th>6</th>\n",
       "      <td>10-methyl-Hexadecanoic acid, d13C</td>\n",
       "      <td>10Me-C16:0 d13C</td>\n",
       "      <td>[per_mil]{PDB}</td>\n",
       "      <td>46530</td>\n",
       "      <td>Dimensionless</td>\n",
       "    </tr>\n",
       "  </tbody>\n",
       "</table>\n",
       "</div>"
      ],
      "text/plain": [
       "                               Parameter               Abbreviation  \\\n",
       "2             10:2 fluorotelomer alcohol                  10:2 FTOH   \n",
       "3             10:2 fluorotelomer alcohol                   10-2FTOH   \n",
       "4  10-Methyldodecanoic acid, particulate  10-methyllauric acid part   \n",
       "5            10-methyl-Hexadecanoic acid                 10Me-C16:0   \n",
       "6      10-methyl-Hexadecanoic acid, d13C            10Me-C16:0 d13C   \n",
       "\n",
       "             Unit  ID parameter  \\\n",
       "2           pg/m3         53014   \n",
       "3            pg/l        159280   \n",
       "4          nmol/l         30245   \n",
       "5            ug/g         46516   \n",
       "6  [per_mil]{PDB}         46530   \n",
       "\n",
       "                                        QuantityKind  \n",
       "2                                            Density  \n",
       "3                                            Density  \n",
       "4  Amount of Substance Per Unit Volume,Molar Conc...  \n",
       "5                                      Dimensionless  \n",
       "6                                      Dimensionless  "
      ]
     },
     "execution_count": 35,
     "metadata": {},
     "output_type": "execute_result"
    }
   ],
   "source": [
    "df.head(5)"
   ]
  },
  {
   "cell_type": "code",
   "execution_count": 36,
   "metadata": {},
   "outputs": [
    {
     "data": {
      "text/plain": [
       "Parameter       158023\n",
       "Abbreviation    158022\n",
       "Unit            122073\n",
       "ID parameter    158023\n",
       "QuantityKind     63313\n",
       "dtype: int64"
      ]
     },
     "execution_count": 36,
     "metadata": {},
     "output_type": "execute_result"
    }
   ],
   "source": [
    "df.count()"
   ]
  },
  {
   "cell_type": "code",
   "execution_count": 37,
   "metadata": {},
   "outputs": [
    {
     "data": {
      "text/plain": [
       "68"
      ]
     },
     "execution_count": 37,
     "metadata": {},
     "output_type": "execute_result"
    }
   ],
   "source": [
    "len(df.QuantityKind.dropna().unique())"
   ]
  },
  {
   "cell_type": "code",
   "execution_count": 38,
   "metadata": {
    "collapsed": true
   },
   "outputs": [],
   "source": [
    "def write_data_tofile(datalist, filename):\n",
    "    with open(filename,'w') as outfile:\n",
    "        for entries in datalist:\n",
    "            outfile.write(entries)\n",
    "            outfile.write(\"\\n\")"
   ]
  },
  {
   "cell_type": "code",
   "execution_count": 39,
   "metadata": {
    "collapsed": true
   },
   "outputs": [],
   "source": [
    "write_data_tofile(uom_not_found,os.path.join(main_dir, 'output\\\\uom_not_found.csv'))\n",
    "write_data_tofile(uom_empty_result,os.path.join(main_dir, 'output\\\\uom_empty_result.csv'))\n",
    "write_data_tofile(quantity_null,os.path.join(main_dir, 'output\\\\quantity_null.csv'))"
   ]
  },
  {
   "cell_type": "markdown",
   "metadata": {},
   "source": [
    "# Validate Units with UCUM Service"
   ]
  },
  {
   "cell_type": "code",
   "execution_count": 40,
   "metadata": {
    "collapsed": true
   },
   "outputs": [],
   "source": [
    "ucum_compliant_uom =[]\n",
    "ucum_non_compliant_uom =[]\n",
    "ucum_rh = df_mapping.UCUM.dropna().unique()\n",
    "for u in ucum_rh:\n",
    "    #quoting special characters and appropriately encoding non-ASCII text\n",
    "    unit_encoded = urllib.parse.quote(u)\n",
    "    q = 'https://ucum.nlm.nih.gov/ucum-service/v1/isValidUCUM/'+ unit_encoded\n",
    "    resp = requests.get(q)\n",
    "    if resp.status_code == 200 and resp.text == 'true':\n",
    "        ucum_compliant_uom.append(u)\n",
    "    else:\n",
    "        ucum_non_compliant_uom.append(u)"
   ]
  },
  {
   "cell_type": "code",
   "execution_count": 41,
   "metadata": {},
   "outputs": [
    {
     "name": "stdout",
     "output_type": "stream",
     "text": [
      "914 914\n"
     ]
    }
   ],
   "source": [
    "print(len(set(ucum_compliant_uom)),len(ucum_compliant_uom))"
   ]
  },
  {
   "cell_type": "code",
   "execution_count": 42,
   "metadata": {},
   "outputs": [
    {
     "name": "stdout",
     "output_type": "stream",
     "text": [
      "292 292\n"
     ]
    }
   ],
   "source": [
    "print(len(set(ucum_non_compliant_uom)),len(ucum_non_compliant_uom))"
   ]
  },
  {
   "cell_type": "code",
   "execution_count": 43,
   "metadata": {},
   "outputs": [
    {
     "data": {
      "text/plain": [
       "['#',\n",
       " '#{ions}',\n",
       " '#/#',\n",
       " '#/#/d',\n",
       " '#/#/h',\n",
       " '#/#/s',\n",
       " '#/(10.cm2)',\n",
       " '#/(10.cm3)',\n",
       " '#/(10.g)/ka',\n",
       " '#/(10.km)']"
      ]
     },
     "execution_count": 43,
     "metadata": {},
     "output_type": "execute_result"
    }
   ],
   "source": [
    "ucum_non_compliant_uom[:10]"
   ]
  },
  {
   "cell_type": "markdown",
   "metadata": {},
   "source": [
    "# Elastic Query"
   ]
  },
  {
   "cell_type": "code",
   "execution_count": null,
   "metadata": {
    "collapsed": true
   },
   "outputs": [],
   "source": []
  },
  {
   "cell_type": "code",
   "execution_count": null,
   "metadata": {
    "collapsed": true
   },
   "outputs": [],
   "source": []
  },
  {
   "cell_type": "code",
   "execution_count": null,
   "metadata": {
    "collapsed": true
   },
   "outputs": [],
   "source": []
  }
 ],
 "metadata": {
  "kernelspec": {
   "display_name": "Python 3",
   "language": "python",
   "name": "python3"
  },
  "language_info": {
   "codemirror_mode": {
    "name": "ipython",
    "version": 3
   },
   "file_extension": ".py",
   "mimetype": "text/x-python",
   "name": "python",
   "nbconvert_exporter": "python",
   "pygments_lexer": "ipython3",
   "version": "3.6.3"
  }
 },
 "nbformat": 4,
 "nbformat_minor": 2
}
