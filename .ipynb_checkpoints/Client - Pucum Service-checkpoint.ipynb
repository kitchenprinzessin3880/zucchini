{
 "cells": [
  {
   "cell_type": "code",
   "execution_count": 290,
   "metadata": {
    "collapsed": true
   },
   "outputs": [],
   "source": [
    "import csv\n",
    "import os.path\n",
    "import configparser as ConfigParser\n",
    "import pandas as pd\n",
    "import numpy as np\n",
    "import requests\n",
    "import csv\n",
    "import urllib.parse\n",
    "import re\n",
    "from urllib import parse"
   ]
  },
  {
   "cell_type": "code",
   "execution_count": 291,
   "metadata": {
    "collapsed": true
   },
   "outputs": [],
   "source": [
    "#UCUM_SERVICE ='http://dataportals.pangaea.de/test/ucum/?ucum='\n",
    "UCUM_SERVICE_VALIDATE ='http://seprojects.marum.de:3838/pucum/v1/api/validate/'\n",
    "UCUM_SERVICE_QUANTITY ='http://seprojects.marum.de:3838/pucum/v1/api/quantity/'"
   ]
  },
  {
   "cell_type": "markdown",
   "metadata": {},
   "source": [
    "# Read Files"
   ]
  },
  {
   "cell_type": "code",
   "execution_count": 292,
   "metadata": {},
   "outputs": [
    {
     "data": {
      "text/plain": [
       "['C:\\\\Users\\\\asd\\\\python-workspace\\\\zucchini\\\\config\\\\zucchini.ini']"
      ]
     },
     "execution_count": 292,
     "metadata": {},
     "output_type": "execute_result"
    }
   ],
   "source": [
    "# These should be the full file paths or at least relative to the cwd\n",
    "file_cfg = ConfigParser.ConfigParser()\n",
    "file_cfg.read('C:\\\\Users\\\\asd\\\\python-workspace\\\\zucchini\\\\config\\\\zucchini.ini')"
   ]
  },
  {
   "cell_type": "code",
   "execution_count": 293,
   "metadata": {},
   "outputs": [
    {
     "data": {
      "text/plain": [
       "('C:\\\\Users\\\\asd\\\\python-workspace\\\\zucchini\\\\input\\\\PANGAEAParameterComplete.tab',\n",
       " 'C:\\\\Users\\\\asd\\\\python-workspace\\\\zucchini')"
      ]
     },
     "execution_count": 293,
     "metadata": {},
     "output_type": "execute_result"
    }
   ],
   "source": [
    "main_dir = os.path.dirname(os.getcwd())\n",
    "param_file = os.path.join(main_dir, file_cfg.get(\"Input\", \"input_file\"))\n",
    "param_file, main_dir"
   ]
  },
  {
   "cell_type": "code",
   "execution_count": 294,
   "metadata": {
    "collapsed": true
   },
   "outputs": [],
   "source": [
    "cols_params = ['Parameter', 'Abbreviation','Unit','ID parameter']\n",
    "df = pd.read_csv(param_file, header=0, usecols=cols_params, delimiter=\"\\t\", encoding='utf-8')"
   ]
  },
  {
   "cell_type": "code",
   "execution_count": 295,
   "metadata": {},
   "outputs": [
    {
     "data": {
      "text/html": [
       "<div>\n",
       "<style>\n",
       "    .dataframe thead tr:only-child th {\n",
       "        text-align: right;\n",
       "    }\n",
       "\n",
       "    .dataframe thead th {\n",
       "        text-align: left;\n",
       "    }\n",
       "\n",
       "    .dataframe tbody tr th {\n",
       "        vertical-align: top;\n",
       "    }\n",
       "</style>\n",
       "<table border=\"1\" class=\"dataframe\">\n",
       "  <thead>\n",
       "    <tr style=\"text-align: right;\">\n",
       "      <th></th>\n",
       "      <th>Parameter</th>\n",
       "      <th>Abbreviation</th>\n",
       "      <th>Unit</th>\n",
       "      <th>ID parameter</th>\n",
       "    </tr>\n",
       "  </thead>\n",
       "  <tbody>\n",
       "    <tr>\n",
       "      <th>0</th>\n",
       "      <td>-</td>\n",
       "      <td>NaN</td>\n",
       "      <td>NaN</td>\n",
       "      <td>16431</td>\n",
       "    </tr>\n",
       "    <tr>\n",
       "      <th>1</th>\n",
       "      <td>-</td>\n",
       "      <td>NaN</td>\n",
       "      <td>NaN</td>\n",
       "      <td>16432</td>\n",
       "    </tr>\n",
       "    <tr>\n",
       "      <th>2</th>\n",
       "      <td>10:2 fluorotelomer alcohol</td>\n",
       "      <td>10:2 FTOH</td>\n",
       "      <td>pg/m**3</td>\n",
       "      <td>53014</td>\n",
       "    </tr>\n",
       "    <tr>\n",
       "      <th>3</th>\n",
       "      <td>10:2 fluorotelomer alcohol</td>\n",
       "      <td>10-2FTOH</td>\n",
       "      <td>pg/l</td>\n",
       "      <td>159280</td>\n",
       "    </tr>\n",
       "    <tr>\n",
       "      <th>4</th>\n",
       "      <td>10-Methyldodecanoic acid, particulate</td>\n",
       "      <td>10-methyllauric acid part</td>\n",
       "      <td>nmol/l</td>\n",
       "      <td>30245</td>\n",
       "    </tr>\n",
       "  </tbody>\n",
       "</table>\n",
       "</div>"
      ],
      "text/plain": [
       "                               Parameter               Abbreviation     Unit  \\\n",
       "0                                      -                        NaN      NaN   \n",
       "1                                      -                        NaN      NaN   \n",
       "2             10:2 fluorotelomer alcohol                  10:2 FTOH  pg/m**3   \n",
       "3             10:2 fluorotelomer alcohol                   10-2FTOH     pg/l   \n",
       "4  10-Methyldodecanoic acid, particulate  10-methyllauric acid part   nmol/l   \n",
       "\n",
       "   ID parameter  \n",
       "0         16431  \n",
       "1         16432  \n",
       "2         53014  \n",
       "3        159280  \n",
       "4         30245  "
      ]
     },
     "execution_count": 295,
     "metadata": {},
     "output_type": "execute_result"
    }
   ],
   "source": [
    "df.head()"
   ]
  },
  {
   "cell_type": "code",
   "execution_count": 296,
   "metadata": {},
   "outputs": [
    {
     "name": "stdout",
     "output_type": "stream",
     "text": [
      "<class 'pandas.core.frame.DataFrame'>\n",
      "RangeIndex: 158025 entries, 0 to 158024\n",
      "Data columns (total 4 columns):\n",
      "Parameter       158025 non-null object\n",
      "Abbreviation    158022 non-null object\n",
      "Unit            122269 non-null object\n",
      "ID parameter    158025 non-null int64\n",
      "dtypes: int64(1), object(3)\n",
      "memory usage: 4.8+ MB\n"
     ]
    }
   ],
   "source": [
    "df.info()"
   ]
  },
  {
   "cell_type": "code",
   "execution_count": 297,
   "metadata": {
    "collapsed": true
   },
   "outputs": [],
   "source": [
    "#remove lines with no parameter\n",
    "df = df[df.Parameter != '-']"
   ]
  },
  {
   "cell_type": "code",
   "execution_count": 298,
   "metadata": {},
   "outputs": [
    {
     "data": {
      "text/html": [
       "<div>\n",
       "<style>\n",
       "    .dataframe thead tr:only-child th {\n",
       "        text-align: right;\n",
       "    }\n",
       "\n",
       "    .dataframe thead th {\n",
       "        text-align: left;\n",
       "    }\n",
       "\n",
       "    .dataframe tbody tr th {\n",
       "        vertical-align: top;\n",
       "    }\n",
       "</style>\n",
       "<table border=\"1\" class=\"dataframe\">\n",
       "  <thead>\n",
       "    <tr style=\"text-align: right;\">\n",
       "      <th></th>\n",
       "      <th>Parameter</th>\n",
       "      <th>Abbreviation</th>\n",
       "      <th>Unit</th>\n",
       "      <th>ID parameter</th>\n",
       "    </tr>\n",
       "  </thead>\n",
       "  <tbody>\n",
       "    <tr>\n",
       "      <th>2</th>\n",
       "      <td>10:2 fluorotelomer alcohol</td>\n",
       "      <td>10:2 FTOH</td>\n",
       "      <td>pg/m**3</td>\n",
       "      <td>53014</td>\n",
       "    </tr>\n",
       "    <tr>\n",
       "      <th>3</th>\n",
       "      <td>10:2 fluorotelomer alcohol</td>\n",
       "      <td>10-2FTOH</td>\n",
       "      <td>pg/l</td>\n",
       "      <td>159280</td>\n",
       "    </tr>\n",
       "  </tbody>\n",
       "</table>\n",
       "</div>"
      ],
      "text/plain": [
       "                    Parameter Abbreviation     Unit  ID parameter\n",
       "2  10:2 fluorotelomer alcohol    10:2 FTOH  pg/m**3         53014\n",
       "3  10:2 fluorotelomer alcohol     10-2FTOH     pg/l        159280"
      ]
     },
     "execution_count": 298,
     "metadata": {},
     "output_type": "execute_result"
    }
   ],
   "source": [
    "df.head(2)"
   ]
  },
  {
   "cell_type": "code",
   "execution_count": 299,
   "metadata": {},
   "outputs": [
    {
     "data": {
      "text/plain": [
       "array([False], dtype=bool)"
      ]
     },
     "execution_count": 299,
     "metadata": {},
     "output_type": "execute_result"
    }
   ],
   "source": [
    "(df.Unit.str.contains('nan', flags=re.IGNORECASE, na=False,regex=True)).unique()"
   ]
  },
  {
   "cell_type": "code",
   "execution_count": 300,
   "metadata": {},
   "outputs": [
    {
     "name": "stdout",
     "output_type": "stream",
     "text": [
      "<class 'pandas.core.frame.DataFrame'>\n",
      "Int64Index: 158023 entries, 2 to 158024\n",
      "Data columns (total 4 columns):\n",
      "Parameter       158023 non-null object\n",
      "Abbreviation    158022 non-null object\n",
      "Unit            122269 non-null object\n",
      "ID parameter    158023 non-null int64\n",
      "dtypes: int64(1), object(3)\n",
      "memory usage: 6.0+ MB\n"
     ]
    }
   ],
   "source": [
    "df.info()"
   ]
  },
  {
   "cell_type": "code",
   "execution_count": 301,
   "metadata": {},
   "outputs": [
    {
     "data": {
      "text/plain": [
       "Parameter       127375\n",
       "Abbreviation    119256\n",
       "Unit              1337\n",
       "ID parameter    158023\n",
       "dtype: int64"
      ]
     },
     "execution_count": 301,
     "metadata": {},
     "output_type": "execute_result"
    }
   ],
   "source": [
    "#List unique values each cols\n",
    "df.nunique(dropna=True)#Excludes NA values"
   ]
  },
  {
   "cell_type": "code",
   "execution_count": 302,
   "metadata": {},
   "outputs": [
    {
     "data": {
      "text/plain": [
       "array(['pg/m**3', 'pg/l', 'nmol/l', 'µg/g', 'per mil PDB', '%', 'pptv',\n",
       "       'ng/g', 'pmol/l', 'ng/l', 'pg/g', nan, 'ppbv', 'pg/ml', 'nmol/kg',\n",
       "       'ng/NT', 'per mil', 'µg C/l/day', 'mg C/kg/day', 'nmol/l/day',\n",
       "       'pmol/#', 'dpm', '±', 'fg/day', 'ng/l/day', 'mg/m**2/day',\n",
       "       'pmol/min/mg', '#/cm**3', 'µg/kg', 'µg/l'], dtype=object)"
      ]
     },
     "execution_count": 302,
     "metadata": {},
     "output_type": "execute_result"
    }
   ],
   "source": [
    "df.Unit.unique()[:30]"
   ]
  },
  {
   "cell_type": "code",
   "execution_count": 303,
   "metadata": {},
   "outputs": [
    {
     "data": {
      "text/plain": [
       "True"
      ]
     },
     "execution_count": 303,
     "metadata": {},
     "output_type": "execute_result"
    }
   ],
   "source": [
    "df.Unit.isnull().values.any()"
   ]
  },
  {
   "cell_type": "code",
   "execution_count": 304,
   "metadata": {
    "collapsed": true
   },
   "outputs": [],
   "source": [
    "list_of_uom = df.Unit.dropna().unique()"
   ]
  },
  {
   "cell_type": "code",
   "execution_count": 305,
   "metadata": {},
   "outputs": [
    {
     "data": {
      "text/plain": [
       "1337"
      ]
     },
     "execution_count": 305,
     "metadata": {},
     "output_type": "execute_result"
    }
   ],
   "source": [
    "len(list_of_uom)"
   ]
  },
  {
   "cell_type": "code",
   "execution_count": 306,
   "metadata": {},
   "outputs": [
    {
     "data": {
      "text/html": [
       "<div>\n",
       "<style>\n",
       "    .dataframe thead tr:only-child th {\n",
       "        text-align: right;\n",
       "    }\n",
       "\n",
       "    .dataframe thead th {\n",
       "        text-align: left;\n",
       "    }\n",
       "\n",
       "    .dataframe tbody tr th {\n",
       "        vertical-align: top;\n",
       "    }\n",
       "</style>\n",
       "<table border=\"1\" class=\"dataframe\">\n",
       "  <thead>\n",
       "    <tr style=\"text-align: right;\">\n",
       "      <th></th>\n",
       "      <th>Parameter</th>\n",
       "      <th>Abbreviation</th>\n",
       "      <th>Unit</th>\n",
       "      <th>ID parameter</th>\n",
       "      <th>Ucum</th>\n",
       "      <th>QuantityKind</th>\n",
       "      <th>Dimension</th>\n",
       "      <th>CanonicalUnits</th>\n",
       "    </tr>\n",
       "  </thead>\n",
       "  <tbody>\n",
       "    <tr>\n",
       "      <th>2</th>\n",
       "      <td>10:2 fluorotelomer alcohol</td>\n",
       "      <td>10:2 FTOH</td>\n",
       "      <td>pg/m**3</td>\n",
       "      <td>53014</td>\n",
       "      <td>NaN</td>\n",
       "      <td>NaN</td>\n",
       "      <td>NaN</td>\n",
       "      <td>NaN</td>\n",
       "    </tr>\n",
       "    <tr>\n",
       "      <th>3</th>\n",
       "      <td>10:2 fluorotelomer alcohol</td>\n",
       "      <td>10-2FTOH</td>\n",
       "      <td>pg/l</td>\n",
       "      <td>159280</td>\n",
       "      <td>NaN</td>\n",
       "      <td>NaN</td>\n",
       "      <td>NaN</td>\n",
       "      <td>NaN</td>\n",
       "    </tr>\n",
       "    <tr>\n",
       "      <th>4</th>\n",
       "      <td>10-Methyldodecanoic acid, particulate</td>\n",
       "      <td>10-methyllauric acid part</td>\n",
       "      <td>nmol/l</td>\n",
       "      <td>30245</td>\n",
       "      <td>NaN</td>\n",
       "      <td>NaN</td>\n",
       "      <td>NaN</td>\n",
       "      <td>NaN</td>\n",
       "    </tr>\n",
       "    <tr>\n",
       "      <th>5</th>\n",
       "      <td>10-methyl-Hexadecanoic acid</td>\n",
       "      <td>10Me-C16:0</td>\n",
       "      <td>µg/g</td>\n",
       "      <td>46516</td>\n",
       "      <td>NaN</td>\n",
       "      <td>NaN</td>\n",
       "      <td>NaN</td>\n",
       "      <td>NaN</td>\n",
       "    </tr>\n",
       "    <tr>\n",
       "      <th>6</th>\n",
       "      <td>10-methyl-Hexadecanoic acid, d13C</td>\n",
       "      <td>10Me-C16:0 d13C</td>\n",
       "      <td>per mil PDB</td>\n",
       "      <td>46530</td>\n",
       "      <td>NaN</td>\n",
       "      <td>NaN</td>\n",
       "      <td>NaN</td>\n",
       "      <td>NaN</td>\n",
       "    </tr>\n",
       "    <tr>\n",
       "      <th>7</th>\n",
       "      <td>10-methyl-Hexadecanoic acid of total fatty acids</td>\n",
       "      <td>10me16:0</td>\n",
       "      <td>%</td>\n",
       "      <td>97842</td>\n",
       "      <td>NaN</td>\n",
       "      <td>NaN</td>\n",
       "      <td>NaN</td>\n",
       "      <td>NaN</td>\n",
       "    </tr>\n",
       "    <tr>\n",
       "      <th>8</th>\n",
       "      <td>10-methyl-Octadecanoic acid of total fatty acids</td>\n",
       "      <td>10me18:0</td>\n",
       "      <td>%</td>\n",
       "      <td>97853</td>\n",
       "      <td>NaN</td>\n",
       "      <td>NaN</td>\n",
       "      <td>NaN</td>\n",
       "      <td>NaN</td>\n",
       "    </tr>\n",
       "  </tbody>\n",
       "</table>\n",
       "</div>"
      ],
      "text/plain": [
       "                                          Parameter  \\\n",
       "2                        10:2 fluorotelomer alcohol   \n",
       "3                        10:2 fluorotelomer alcohol   \n",
       "4             10-Methyldodecanoic acid, particulate   \n",
       "5                       10-methyl-Hexadecanoic acid   \n",
       "6                 10-methyl-Hexadecanoic acid, d13C   \n",
       "7  10-methyl-Hexadecanoic acid of total fatty acids   \n",
       "8  10-methyl-Octadecanoic acid of total fatty acids   \n",
       "\n",
       "                Abbreviation         Unit  ID parameter  Ucum  QuantityKind  \\\n",
       "2                  10:2 FTOH      pg/m**3         53014   NaN           NaN   \n",
       "3                   10-2FTOH         pg/l        159280   NaN           NaN   \n",
       "4  10-methyllauric acid part       nmol/l         30245   NaN           NaN   \n",
       "5                 10Me-C16:0         µg/g         46516   NaN           NaN   \n",
       "6            10Me-C16:0 d13C  per mil PDB         46530   NaN           NaN   \n",
       "7                   10me16:0            %         97842   NaN           NaN   \n",
       "8                   10me18:0            %         97853   NaN           NaN   \n",
       "\n",
       "   Dimension  CanonicalUnits  \n",
       "2        NaN             NaN  \n",
       "3        NaN             NaN  \n",
       "4        NaN             NaN  \n",
       "5        NaN             NaN  \n",
       "6        NaN             NaN  \n",
       "7        NaN             NaN  \n",
       "8        NaN             NaN  "
      ]
     },
     "execution_count": 306,
     "metadata": {},
     "output_type": "execute_result"
    }
   ],
   "source": [
    "df[\"Ucum\"] = np.nan\n",
    "df[\"QuantityKind\"] = np.nan\n",
    "df[\"Dimension\"] = np.nan\n",
    "df[\"CanonicalUnits\"] = np.nan\n",
    "df.head(7)"
   ]
  },
  {
   "cell_type": "markdown",
   "metadata": {},
   "source": [
    "# Get Quantity Kind"
   ]
  },
  {
   "cell_type": "code",
   "execution_count": 307,
   "metadata": {
    "collapsed": true,
    "scrolled": true
   },
   "outputs": [],
   "source": [
    "specialChars = {\n",
    "'#':'1',\n",
    "'µ':'u',\n",
    "}"
   ]
  },
  {
   "cell_type": "code",
   "execution_count": 308,
   "metadata": {
    "collapsed": true
   },
   "outputs": [],
   "source": [
    "def pattern_match(m):\n",
    "    m = m.group(0).replace('*', '')\n",
    "    return m\n",
    "pattern  = re.compile(r'[A-z]+[*]+\\d') #pg/m**3 --> pg/m3; 10**6 ru/l --> 10**6 ru/l"
   ]
  },
  {
   "cell_type": "code",
   "execution_count": 309,
   "metadata": {},
   "outputs": [
    {
     "data": {
      "text/plain": [
       "('pg/m3', '10**3', '1m31')"
      ]
     },
     "execution_count": 309,
     "metadata": {},
     "output_type": "execute_result"
    }
   ],
   "source": [
    "#Test pattern\n",
    "pattern.sub(pattern_match, 'pg/m**3'),pattern.sub(pattern_match, '10**3'),pattern.sub(pattern_match, '1m**31')"
   ]
  },
  {
   "cell_type": "code",
   "execution_count": 310,
   "metadata": {},
   "outputs": [
    {
     "data": {
      "text/plain": [
       "(array([     0,     42,    303,    307,    606,    608,    610,    627,\n",
       "           629,   5715,   6238,  27448,  30011,  31956,  44544,  45429,\n",
       "         50616,  58913,  68765,  69729,  76201,  79377,  89985,  89998,\n",
       "         90020,  90033,  90052,  90065,  90100,  90114,  90134,  90148,\n",
       "         90167,  90179,  90191,  92285,  93106,  93107,  93108,  93110,\n",
       "         94449,  94450,  94451,  94453,  94455,  94457,  99513,  99515,\n",
       "         99520, 100051, 102485, 102492, 102498, 103961, 104169, 104181,\n",
       "        104188, 104197, 104202, 104217, 110116, 110117, 110121, 110125,\n",
       "        110127, 110129, 110131, 110134, 110139, 110142, 110145, 110147,\n",
       "        110151, 110153, 110157, 110160, 110330, 142996, 142998, 143069,\n",
       "        143080, 143085, 143086, 149100, 150397, 150743, 151259, 151520,\n",
       "        151759, 151893, 151896, 151899, 151900, 151903], dtype=int64),)"
      ]
     },
     "execution_count": 310,
     "metadata": {},
     "output_type": "execute_result"
    }
   ],
   "source": [
    "np.where(df['Unit'] == 'pg/m**3')"
   ]
  },
  {
   "cell_type": "code",
   "execution_count": 311,
   "metadata": {},
   "outputs": [
    {
     "data": {
      "text/plain": [
       "Parameter          object\n",
       "Abbreviation       object\n",
       "Unit               object\n",
       "ID parameter        int64\n",
       "Ucum              float64\n",
       "QuantityKind      float64\n",
       "Dimension         float64\n",
       "CanonicalUnits    float64\n",
       "dtype: object"
      ]
     },
     "execution_count": 311,
     "metadata": {},
     "output_type": "execute_result"
    }
   ],
   "source": [
    "#df['QuantityKind'] = df['QuantityKind'].astype(str)\n",
    "df.dtypes"
   ]
  },
  {
   "cell_type": "code",
   "execution_count": 312,
   "metadata": {},
   "outputs": [
    {
     "data": {
      "text/plain": [
       "'a,b'"
      ]
     },
     "execution_count": 312,
     "metadata": {},
     "output_type": "execute_result"
    }
   ],
   "source": [
    "myList = ['a','b']\n",
    "myString = \",\".join(myList )\n",
    "myString"
   ]
  },
  {
   "cell_type": "code",
   "execution_count": 313,
   "metadata": {},
   "outputs": [
    {
     "data": {
      "text/plain": [
       "'%C2%B5g/g'"
      ]
     },
     "execution_count": 313,
     "metadata": {},
     "output_type": "execute_result"
    }
   ],
   "source": [
    "from urllib import parse\n",
    "new_url = 'µg/g'\n",
    "urllib.parse.quote(new_url) "
   ]
  },
  {
   "cell_type": "code",
   "execution_count": 289,
   "metadata": {},
   "outputs": [
    {
     "name": "stdout",
     "output_type": "stream",
     "text": [
      "{'input': 'pptv', 'status': 'NOT_FOUND', 'status_msg': 'The canonical form for the units are not found.', 'ucum': '[pptv]', 'fullname': None, 'canonicalunit': None, 'verbosecanonicalunit': None, 'dimension': None, 'quantities': None}\n"
     ]
    },
    {
     "ename": "KeyboardInterrupt",
     "evalue": "",
     "output_type": "error",
     "traceback": [
      "\u001b[1;31m---------------------------------------------------------------------------\u001b[0m",
      "\u001b[1;31mFileNotFoundError\u001b[0m                         Traceback (most recent call last)",
      "\u001b[1;32m~\\Anaconda3\\lib\\genericpath.py\u001b[0m in \u001b[0;36mexists\u001b[1;34m(path)\u001b[0m\n\u001b[0;32m     18\u001b[0m     \u001b[1;32mtry\u001b[0m\u001b[1;33m:\u001b[0m\u001b[1;33m\u001b[0m\u001b[0m\n\u001b[1;32m---> 19\u001b[1;33m         \u001b[0mos\u001b[0m\u001b[1;33m.\u001b[0m\u001b[0mstat\u001b[0m\u001b[1;33m(\u001b[0m\u001b[0mpath\u001b[0m\u001b[1;33m)\u001b[0m\u001b[1;33m\u001b[0m\u001b[0m\n\u001b[0m\u001b[0;32m     20\u001b[0m     \u001b[1;32mexcept\u001b[0m \u001b[0mOSError\u001b[0m\u001b[1;33m:\u001b[0m\u001b[1;33m\u001b[0m\u001b[0m\n",
      "\u001b[1;31mFileNotFoundError\u001b[0m: [WinError 2] The system cannot find the file specified: 'C:\\\\Users\\\\asd/.netrc'",
      "\nDuring handling of the above exception, another exception occurred:\n",
      "\u001b[1;31mKeyboardInterrupt\u001b[0m                         Traceback (most recent call last)",
      "\u001b[1;32m<ipython-input-289-a36c7713a0bd>\u001b[0m in \u001b[0;36m<module>\u001b[1;34m()\u001b[0m\n\u001b[0;32m      9\u001b[0m         \u001b[0muom\u001b[0m \u001b[1;33m=\u001b[0m \u001b[0mpattern\u001b[0m\u001b[1;33m.\u001b[0m\u001b[0msub\u001b[0m\u001b[1;33m(\u001b[0m\u001b[0mpattern_match\u001b[0m\u001b[1;33m,\u001b[0m \u001b[0muom\u001b[0m\u001b[1;33m)\u001b[0m\u001b[1;33m\u001b[0m\u001b[0m\n\u001b[0;32m     10\u001b[0m     \u001b[0mq\u001b[0m \u001b[1;33m=\u001b[0m \u001b[0mUCUM_SERVICE_QUANTITY\u001b[0m\u001b[1;33m+\u001b[0m \u001b[0murllib\u001b[0m\u001b[1;33m.\u001b[0m\u001b[0mparse\u001b[0m\u001b[1;33m.\u001b[0m\u001b[0mquote\u001b[0m\u001b[1;33m(\u001b[0m\u001b[0muom\u001b[0m\u001b[1;33m)\u001b[0m\u001b[1;33m\u001b[0m\u001b[0m\n\u001b[1;32m---> 11\u001b[1;33m     \u001b[0mresp\u001b[0m \u001b[1;33m=\u001b[0m \u001b[0mrequests\u001b[0m\u001b[1;33m.\u001b[0m\u001b[0mget\u001b[0m\u001b[1;33m(\u001b[0m\u001b[0mq\u001b[0m\u001b[1;33m)\u001b[0m\u001b[1;33m\u001b[0m\u001b[0m\n\u001b[0m\u001b[0;32m     12\u001b[0m     \u001b[0mdata\u001b[0m \u001b[1;33m=\u001b[0m \u001b[0mresp\u001b[0m\u001b[1;33m.\u001b[0m\u001b[0mjson\u001b[0m\u001b[1;33m(\u001b[0m\u001b[1;33m)\u001b[0m\u001b[1;33m\u001b[0m\u001b[0m\n\u001b[0;32m     13\u001b[0m     \u001b[0mucumcode\u001b[0m \u001b[1;33m=\u001b[0m \u001b[0mdata\u001b[0m\u001b[1;33m[\u001b[0m\u001b[1;34m'ucum'\u001b[0m\u001b[1;33m]\u001b[0m\u001b[1;33m\u001b[0m\u001b[0m\n",
      "\u001b[1;32m~\\Anaconda3\\lib\\site-packages\\requests\\api.py\u001b[0m in \u001b[0;36mget\u001b[1;34m(url, params, **kwargs)\u001b[0m\n\u001b[0;32m     70\u001b[0m \u001b[1;33m\u001b[0m\u001b[0m\n\u001b[0;32m     71\u001b[0m     \u001b[0mkwargs\u001b[0m\u001b[1;33m.\u001b[0m\u001b[0msetdefault\u001b[0m\u001b[1;33m(\u001b[0m\u001b[1;34m'allow_redirects'\u001b[0m\u001b[1;33m,\u001b[0m \u001b[1;32mTrue\u001b[0m\u001b[1;33m)\u001b[0m\u001b[1;33m\u001b[0m\u001b[0m\n\u001b[1;32m---> 72\u001b[1;33m     \u001b[1;32mreturn\u001b[0m \u001b[0mrequest\u001b[0m\u001b[1;33m(\u001b[0m\u001b[1;34m'get'\u001b[0m\u001b[1;33m,\u001b[0m \u001b[0murl\u001b[0m\u001b[1;33m,\u001b[0m \u001b[0mparams\u001b[0m\u001b[1;33m=\u001b[0m\u001b[0mparams\u001b[0m\u001b[1;33m,\u001b[0m \u001b[1;33m**\u001b[0m\u001b[0mkwargs\u001b[0m\u001b[1;33m)\u001b[0m\u001b[1;33m\u001b[0m\u001b[0m\n\u001b[0m\u001b[0;32m     73\u001b[0m \u001b[1;33m\u001b[0m\u001b[0m\n\u001b[0;32m     74\u001b[0m \u001b[1;33m\u001b[0m\u001b[0m\n",
      "\u001b[1;32m~\\Anaconda3\\lib\\site-packages\\requests\\api.py\u001b[0m in \u001b[0;36mrequest\u001b[1;34m(method, url, **kwargs)\u001b[0m\n\u001b[0;32m     56\u001b[0m     \u001b[1;31m# cases, and look like a memory leak in others.\u001b[0m\u001b[1;33m\u001b[0m\u001b[1;33m\u001b[0m\u001b[0m\n\u001b[0;32m     57\u001b[0m     \u001b[1;32mwith\u001b[0m \u001b[0msessions\u001b[0m\u001b[1;33m.\u001b[0m\u001b[0mSession\u001b[0m\u001b[1;33m(\u001b[0m\u001b[1;33m)\u001b[0m \u001b[1;32mas\u001b[0m \u001b[0msession\u001b[0m\u001b[1;33m:\u001b[0m\u001b[1;33m\u001b[0m\u001b[0m\n\u001b[1;32m---> 58\u001b[1;33m         \u001b[1;32mreturn\u001b[0m \u001b[0msession\u001b[0m\u001b[1;33m.\u001b[0m\u001b[0mrequest\u001b[0m\u001b[1;33m(\u001b[0m\u001b[0mmethod\u001b[0m\u001b[1;33m=\u001b[0m\u001b[0mmethod\u001b[0m\u001b[1;33m,\u001b[0m \u001b[0murl\u001b[0m\u001b[1;33m=\u001b[0m\u001b[0murl\u001b[0m\u001b[1;33m,\u001b[0m \u001b[1;33m**\u001b[0m\u001b[0mkwargs\u001b[0m\u001b[1;33m)\u001b[0m\u001b[1;33m\u001b[0m\u001b[0m\n\u001b[0m\u001b[0;32m     59\u001b[0m \u001b[1;33m\u001b[0m\u001b[0m\n\u001b[0;32m     60\u001b[0m \u001b[1;33m\u001b[0m\u001b[0m\n",
      "\u001b[1;32m~\\Anaconda3\\lib\\site-packages\\requests\\sessions.py\u001b[0m in \u001b[0;36mrequest\u001b[1;34m(self, method, url, params, data, headers, cookies, files, auth, timeout, allow_redirects, proxies, hooks, stream, verify, cert, json)\u001b[0m\n\u001b[0;32m    492\u001b[0m             \u001b[0mhooks\u001b[0m\u001b[1;33m=\u001b[0m\u001b[0mhooks\u001b[0m\u001b[1;33m,\u001b[0m\u001b[1;33m\u001b[0m\u001b[0m\n\u001b[0;32m    493\u001b[0m         )\n\u001b[1;32m--> 494\u001b[1;33m         \u001b[0mprep\u001b[0m \u001b[1;33m=\u001b[0m \u001b[0mself\u001b[0m\u001b[1;33m.\u001b[0m\u001b[0mprepare_request\u001b[0m\u001b[1;33m(\u001b[0m\u001b[0mreq\u001b[0m\u001b[1;33m)\u001b[0m\u001b[1;33m\u001b[0m\u001b[0m\n\u001b[0m\u001b[0;32m    495\u001b[0m \u001b[1;33m\u001b[0m\u001b[0m\n\u001b[0;32m    496\u001b[0m         \u001b[0mproxies\u001b[0m \u001b[1;33m=\u001b[0m \u001b[0mproxies\u001b[0m \u001b[1;32mor\u001b[0m \u001b[1;33m{\u001b[0m\u001b[1;33m}\u001b[0m\u001b[1;33m\u001b[0m\u001b[0m\n",
      "\u001b[1;32m~\\Anaconda3\\lib\\site-packages\\requests\\sessions.py\u001b[0m in \u001b[0;36mprepare_request\u001b[1;34m(self, request)\u001b[0m\n\u001b[0;32m    422\u001b[0m         \u001b[0mauth\u001b[0m \u001b[1;33m=\u001b[0m \u001b[0mrequest\u001b[0m\u001b[1;33m.\u001b[0m\u001b[0mauth\u001b[0m\u001b[1;33m\u001b[0m\u001b[0m\n\u001b[0;32m    423\u001b[0m         \u001b[1;32mif\u001b[0m \u001b[0mself\u001b[0m\u001b[1;33m.\u001b[0m\u001b[0mtrust_env\u001b[0m \u001b[1;32mand\u001b[0m \u001b[1;32mnot\u001b[0m \u001b[0mauth\u001b[0m \u001b[1;32mand\u001b[0m \u001b[1;32mnot\u001b[0m \u001b[0mself\u001b[0m\u001b[1;33m.\u001b[0m\u001b[0mauth\u001b[0m\u001b[1;33m:\u001b[0m\u001b[1;33m\u001b[0m\u001b[0m\n\u001b[1;32m--> 424\u001b[1;33m             \u001b[0mauth\u001b[0m \u001b[1;33m=\u001b[0m \u001b[0mget_netrc_auth\u001b[0m\u001b[1;33m(\u001b[0m\u001b[0mrequest\u001b[0m\u001b[1;33m.\u001b[0m\u001b[0murl\u001b[0m\u001b[1;33m)\u001b[0m\u001b[1;33m\u001b[0m\u001b[0m\n\u001b[0m\u001b[0;32m    425\u001b[0m \u001b[1;33m\u001b[0m\u001b[0m\n\u001b[0;32m    426\u001b[0m         \u001b[0mp\u001b[0m \u001b[1;33m=\u001b[0m \u001b[0mPreparedRequest\u001b[0m\u001b[1;33m(\u001b[0m\u001b[1;33m)\u001b[0m\u001b[1;33m\u001b[0m\u001b[0m\n",
      "\u001b[1;32m~\\Anaconda3\\lib\\site-packages\\requests\\utils.py\u001b[0m in \u001b[0;36mget_netrc_auth\u001b[1;34m(url, raise_errors)\u001b[0m\n\u001b[0;32m    175\u001b[0m                 \u001b[1;32mreturn\u001b[0m\u001b[1;33m\u001b[0m\u001b[0m\n\u001b[0;32m    176\u001b[0m \u001b[1;33m\u001b[0m\u001b[0m\n\u001b[1;32m--> 177\u001b[1;33m             \u001b[1;32mif\u001b[0m \u001b[0mos\u001b[0m\u001b[1;33m.\u001b[0m\u001b[0mpath\u001b[0m\u001b[1;33m.\u001b[0m\u001b[0mexists\u001b[0m\u001b[1;33m(\u001b[0m\u001b[0mloc\u001b[0m\u001b[1;33m)\u001b[0m\u001b[1;33m:\u001b[0m\u001b[1;33m\u001b[0m\u001b[0m\n\u001b[0m\u001b[0;32m    178\u001b[0m                 \u001b[0mnetrc_path\u001b[0m \u001b[1;33m=\u001b[0m \u001b[0mloc\u001b[0m\u001b[1;33m\u001b[0m\u001b[0m\n\u001b[0;32m    179\u001b[0m                 \u001b[1;32mbreak\u001b[0m\u001b[1;33m\u001b[0m\u001b[0m\n",
      "\u001b[1;32m~\\Anaconda3\\lib\\genericpath.py\u001b[0m in \u001b[0;36mexists\u001b[1;34m(path)\u001b[0m\n\u001b[0;32m     17\u001b[0m     \u001b[1;34m\"\"\"Test whether a path exists.  Returns False for broken symbolic links\"\"\"\u001b[0m\u001b[1;33m\u001b[0m\u001b[0m\n\u001b[0;32m     18\u001b[0m     \u001b[1;32mtry\u001b[0m\u001b[1;33m:\u001b[0m\u001b[1;33m\u001b[0m\u001b[0m\n\u001b[1;32m---> 19\u001b[1;33m         \u001b[0mos\u001b[0m\u001b[1;33m.\u001b[0m\u001b[0mstat\u001b[0m\u001b[1;33m(\u001b[0m\u001b[0mpath\u001b[0m\u001b[1;33m)\u001b[0m\u001b[1;33m\u001b[0m\u001b[0m\n\u001b[0m\u001b[0;32m     20\u001b[0m     \u001b[1;32mexcept\u001b[0m \u001b[0mOSError\u001b[0m\u001b[1;33m:\u001b[0m\u001b[1;33m\u001b[0m\u001b[0m\n\u001b[0;32m     21\u001b[0m         \u001b[1;32mreturn\u001b[0m \u001b[1;32mFalse\u001b[0m\u001b[1;33m\u001b[0m\u001b[0m\n",
      "\u001b[1;31mKeyboardInterrupt\u001b[0m: "
     ]
    }
   ],
   "source": [
    "quantity_not_found=[]\n",
    "canon_not_found = []\n",
    "quantity_found =[]\n",
    "for u in list_of_uom:\n",
    "    uom = u\n",
    "    for word, initial in specialChars.items():\n",
    "        uom = uom.replace(word, initial)\n",
    "    if '*' in uom:\n",
    "        uom = pattern.sub(pattern_match, uom)\n",
    "    q = UCUM_SERVICE_QUANTITY+ urllib.parse.quote(uom) \n",
    "    resp = requests.get(q)\n",
    "    data = resp.json()\n",
    "    ucumcode = data['ucum']\n",
    "    if (resp.status_code == requests.codes.ok) or (resp.status_code == requests.codes.BAD_REQUEST):\n",
    "        canon = data['canonicalunit']\n",
    "        if canon:\n",
    "            dimension = data['dimension']\n",
    "            quantity = data['quantities']\n",
    "            if isinstance(quantity, list) and len(quantity) > 0:\n",
    "                quantity_str = ', '.join(quantity)\n",
    "                quantity_found.append(u)\n",
    "            df.loc[df.Unit == u, 'QuantityKind'] = quantity_str\n",
    "            df.loc[df.Unit == u, 'Dimension'] = dimension\n",
    "            df.loc[df.Unit == u, 'CanonicalUnits'] = canon\n",
    "            #print(u, \" \",uom,\" \",ucumcode,\" \",quantity_str, \" \",canon,\" \",dimension )\n",
    "        else:\n",
    "            print('******', uom)\n",
    "            canon_not_found.append(u)\n",
    "            \n",
    "    else:\n",
    "        quantity_not_found.append(u)\n",
    "    df.loc[df.Unit == u, 'Ucum'] = ucumcode\n",
    "            "
   ]
  },
  {
   "cell_type": "code",
   "execution_count": 278,
   "metadata": {},
   "outputs": [
    {
     "data": {
      "text/plain": [
       "([], 671)"
      ]
     },
     "execution_count": 278,
     "metadata": {},
     "output_type": "execute_result"
    }
   ],
   "source": [
    "canon_not_found, len(quantity_found)"
   ]
  },
  {
   "cell_type": "code",
   "execution_count": 279,
   "metadata": {},
   "outputs": [
    {
     "data": {
      "text/plain": [
       "(103299, 8)"
      ]
     },
     "execution_count": 279,
     "metadata": {},
     "output_type": "execute_result"
    }
   ],
   "source": [
    "df[df['CanonicalUnits'].isnull()].shape"
   ]
  },
  {
   "cell_type": "code",
   "execution_count": 280,
   "metadata": {},
   "outputs": [
    {
     "data": {
      "text/plain": [
       "(54724, 8)"
      ]
     },
     "execution_count": 280,
     "metadata": {},
     "output_type": "execute_result"
    }
   ],
   "source": [
    "df[df['QuantityKind'].notnull()].shape"
   ]
  },
  {
   "cell_type": "code",
   "execution_count": 281,
   "metadata": {},
   "outputs": [
    {
     "data": {
      "text/plain": [
       "(503,\n",
       " 503,\n",
       " ['µg/g',\n",
       "  'per mil PDB',\n",
       "  '%',\n",
       "  'pptv',\n",
       "  'ng/g',\n",
       "  'pg/g',\n",
       "  'ppbv',\n",
       "  'ng/NT',\n",
       "  'per mil',\n",
       "  'µg C/l/day'])"
      ]
     },
     "execution_count": 281,
     "metadata": {},
     "output_type": "execute_result"
    }
   ],
   "source": [
    "len(set(quantity_not_found)), len(quantity_not_found), list(quantity_not_found)[:10]"
   ]
  },
  {
   "cell_type": "code",
   "execution_count": 282,
   "metadata": {
    "scrolled": true
   },
   "outputs": [
    {
     "data": {
      "text/html": [
       "<div>\n",
       "<style>\n",
       "    .dataframe thead tr:only-child th {\n",
       "        text-align: right;\n",
       "    }\n",
       "\n",
       "    .dataframe thead th {\n",
       "        text-align: left;\n",
       "    }\n",
       "\n",
       "    .dataframe tbody tr th {\n",
       "        vertical-align: top;\n",
       "    }\n",
       "</style>\n",
       "<table border=\"1\" class=\"dataframe\">\n",
       "  <thead>\n",
       "    <tr style=\"text-align: right;\">\n",
       "      <th></th>\n",
       "      <th>Parameter</th>\n",
       "      <th>Abbreviation</th>\n",
       "      <th>Unit</th>\n",
       "      <th>ID parameter</th>\n",
       "      <th>Ucum</th>\n",
       "      <th>QuantityKind</th>\n",
       "      <th>Dimension</th>\n",
       "      <th>CanonicalUnits</th>\n",
       "    </tr>\n",
       "  </thead>\n",
       "  <tbody>\n",
       "    <tr>\n",
       "      <th>2</th>\n",
       "      <td>10:2 fluorotelomer alcohol</td>\n",
       "      <td>10:2 FTOH</td>\n",
       "      <td>pg/m**3</td>\n",
       "      <td>53014</td>\n",
       "      <td>pg/m3</td>\n",
       "      <td>Density</td>\n",
       "      <td>M.L-3</td>\n",
       "      <td>g.m-3</td>\n",
       "    </tr>\n",
       "    <tr>\n",
       "      <th>3</th>\n",
       "      <td>10:2 fluorotelomer alcohol</td>\n",
       "      <td>10-2FTOH</td>\n",
       "      <td>pg/l</td>\n",
       "      <td>159280</td>\n",
       "      <td>pg/l</td>\n",
       "      <td>Density</td>\n",
       "      <td>M.L-3</td>\n",
       "      <td>g.m-3</td>\n",
       "    </tr>\n",
       "    <tr>\n",
       "      <th>4</th>\n",
       "      <td>10-Methyldodecanoic acid, particulate</td>\n",
       "      <td>10-methyllauric acid part</td>\n",
       "      <td>nmol/l</td>\n",
       "      <td>30245</td>\n",
       "      <td>nmol/l</td>\n",
       "      <td>Molar Concentration, Amount of Substance Per U...</td>\n",
       "      <td>L-3.N</td>\n",
       "      <td>m-3.mol</td>\n",
       "    </tr>\n",
       "    <tr>\n",
       "      <th>5</th>\n",
       "      <td>10-methyl-Hexadecanoic acid</td>\n",
       "      <td>10Me-C16:0</td>\n",
       "      <td>µg/g</td>\n",
       "      <td>46516</td>\n",
       "      <td>ug/g</td>\n",
       "      <td>NaN</td>\n",
       "      <td>NaN</td>\n",
       "      <td>NaN</td>\n",
       "    </tr>\n",
       "    <tr>\n",
       "      <th>6</th>\n",
       "      <td>10-methyl-Hexadecanoic acid, d13C</td>\n",
       "      <td>10Me-C16:0 d13C</td>\n",
       "      <td>per mil PDB</td>\n",
       "      <td>46530</td>\n",
       "      <td>[per_mil]{PDB}</td>\n",
       "      <td>NaN</td>\n",
       "      <td>NaN</td>\n",
       "      <td>NaN</td>\n",
       "    </tr>\n",
       "  </tbody>\n",
       "</table>\n",
       "</div>"
      ],
      "text/plain": [
       "                               Parameter               Abbreviation  \\\n",
       "2             10:2 fluorotelomer alcohol                  10:2 FTOH   \n",
       "3             10:2 fluorotelomer alcohol                   10-2FTOH   \n",
       "4  10-Methyldodecanoic acid, particulate  10-methyllauric acid part   \n",
       "5            10-methyl-Hexadecanoic acid                 10Me-C16:0   \n",
       "6      10-methyl-Hexadecanoic acid, d13C            10Me-C16:0 d13C   \n",
       "\n",
       "          Unit  ID parameter            Ucum  \\\n",
       "2      pg/m**3         53014           pg/m3   \n",
       "3         pg/l        159280            pg/l   \n",
       "4       nmol/l         30245          nmol/l   \n",
       "5         µg/g         46516            ug/g   \n",
       "6  per mil PDB         46530  [per_mil]{PDB}   \n",
       "\n",
       "                                        QuantityKind Dimension CanonicalUnits  \n",
       "2                                            Density     M.L-3          g.m-3  \n",
       "3                                            Density     M.L-3          g.m-3  \n",
       "4  Molar Concentration, Amount of Substance Per U...     L-3.N        m-3.mol  \n",
       "5                                                NaN       NaN            NaN  \n",
       "6                                                NaN       NaN            NaN  "
      ]
     },
     "execution_count": 282,
     "metadata": {},
     "output_type": "execute_result"
    }
   ],
   "source": [
    "df.head()"
   ]
  },
  {
   "cell_type": "code",
   "execution_count": 283,
   "metadata": {},
   "outputs": [
    {
     "name": "stdout",
     "output_type": "stream",
     "text": [
      "<class 'pandas.core.frame.DataFrame'>\n",
      "Int64Index: 158023 entries, 2 to 158024\n",
      "Data columns (total 8 columns):\n",
      "Parameter         158023 non-null object\n",
      "Abbreviation      158022 non-null object\n",
      "Unit              122269 non-null object\n",
      "ID parameter      158023 non-null int64\n",
      "Ucum              115981 non-null object\n",
      "QuantityKind      54724 non-null object\n",
      "Dimension         54724 non-null object\n",
      "CanonicalUnits    54724 non-null object\n",
      "dtypes: int64(1), object(7)\n",
      "memory usage: 10.9+ MB\n"
     ]
    }
   ],
   "source": [
    "df.info()"
   ]
  },
  {
   "cell_type": "code",
   "execution_count": 284,
   "metadata": {
    "collapsed": true
   },
   "outputs": [],
   "source": [
    "df_quantity_null = df.loc[df['QuantityKind'].isnull(), ['ID parameter','Parameter','Unit', 'Ucum' ]]"
   ]
  },
  {
   "cell_type": "code",
   "execution_count": 285,
   "metadata": {},
   "outputs": [
    {
     "data": {
      "text/html": [
       "<div>\n",
       "<style>\n",
       "    .dataframe thead tr:only-child th {\n",
       "        text-align: right;\n",
       "    }\n",
       "\n",
       "    .dataframe thead th {\n",
       "        text-align: left;\n",
       "    }\n",
       "\n",
       "    .dataframe tbody tr th {\n",
       "        vertical-align: top;\n",
       "    }\n",
       "</style>\n",
       "<table border=\"1\" class=\"dataframe\">\n",
       "  <thead>\n",
       "    <tr style=\"text-align: right;\">\n",
       "      <th></th>\n",
       "      <th>ID parameter</th>\n",
       "      <th>Parameter</th>\n",
       "      <th>Unit</th>\n",
       "      <th>Ucum</th>\n",
       "    </tr>\n",
       "  </thead>\n",
       "  <tbody>\n",
       "    <tr>\n",
       "      <th>5</th>\n",
       "      <td>46516</td>\n",
       "      <td>10-methyl-Hexadecanoic acid</td>\n",
       "      <td>µg/g</td>\n",
       "      <td>ug/g</td>\n",
       "    </tr>\n",
       "    <tr>\n",
       "      <th>6</th>\n",
       "      <td>46530</td>\n",
       "      <td>10-methyl-Hexadecanoic acid, d13C</td>\n",
       "      <td>per mil PDB</td>\n",
       "      <td>[per_mil]{PDB}</td>\n",
       "    </tr>\n",
       "    <tr>\n",
       "      <th>7</th>\n",
       "      <td>97842</td>\n",
       "      <td>10-methyl-Hexadecanoic acid of total fatty acids</td>\n",
       "      <td>%</td>\n",
       "      <td>%</td>\n",
       "    </tr>\n",
       "    <tr>\n",
       "      <th>8</th>\n",
       "      <td>97853</td>\n",
       "      <td>10-methyl-Octadecanoic acid of total fatty acids</td>\n",
       "      <td>%</td>\n",
       "      <td>%</td>\n",
       "    </tr>\n",
       "    <tr>\n",
       "      <th>9</th>\n",
       "      <td>97840</td>\n",
       "      <td>10-methyl-pentadecanoic acid of total fatty acids</td>\n",
       "      <td>%</td>\n",
       "      <td>%</td>\n",
       "    </tr>\n",
       "    <tr>\n",
       "      <th>10</th>\n",
       "      <td>97837</td>\n",
       "      <td>10-methyl-tetradecanoic acid of total fatty acids</td>\n",
       "      <td>%</td>\n",
       "      <td>%</td>\n",
       "    </tr>\n",
       "    <tr>\n",
       "      <th>11</th>\n",
       "      <td>46518</td>\n",
       "      <td>11,12-methylene-Hexadecanoic acid</td>\n",
       "      <td>µg/g</td>\n",
       "      <td>ug/g</td>\n",
       "    </tr>\n",
       "    <tr>\n",
       "      <th>12</th>\n",
       "      <td>100166</td>\n",
       "      <td>11,12-methylene-Hexadecanoic acid</td>\n",
       "      <td>µg/g</td>\n",
       "      <td>ug/g</td>\n",
       "    </tr>\n",
       "    <tr>\n",
       "      <th>13</th>\n",
       "      <td>46532</td>\n",
       "      <td>11,12-methylene-Hexadecanoic acid, d13C</td>\n",
       "      <td>per mil PDB</td>\n",
       "      <td>[per_mil]{PDB}</td>\n",
       "    </tr>\n",
       "    <tr>\n",
       "      <th>14</th>\n",
       "      <td>146077</td>\n",
       "      <td>1,1,1,2-Tetrafluoroethane</td>\n",
       "      <td>pptv</td>\n",
       "      <td>[pptv]</td>\n",
       "    </tr>\n",
       "  </tbody>\n",
       "</table>\n",
       "</div>"
      ],
      "text/plain": [
       "    ID parameter                                          Parameter  \\\n",
       "5          46516                        10-methyl-Hexadecanoic acid   \n",
       "6          46530                  10-methyl-Hexadecanoic acid, d13C   \n",
       "7          97842   10-methyl-Hexadecanoic acid of total fatty acids   \n",
       "8          97853   10-methyl-Octadecanoic acid of total fatty acids   \n",
       "9          97840  10-methyl-pentadecanoic acid of total fatty acids   \n",
       "10         97837  10-methyl-tetradecanoic acid of total fatty acids   \n",
       "11         46518                  11,12-methylene-Hexadecanoic acid   \n",
       "12        100166                  11,12-methylene-Hexadecanoic acid   \n",
       "13         46532            11,12-methylene-Hexadecanoic acid, d13C   \n",
       "14        146077                          1,1,1,2-Tetrafluoroethane   \n",
       "\n",
       "           Unit            Ucum  \n",
       "5          µg/g            ug/g  \n",
       "6   per mil PDB  [per_mil]{PDB}  \n",
       "7             %               %  \n",
       "8             %               %  \n",
       "9             %               %  \n",
       "10            %               %  \n",
       "11         µg/g            ug/g  \n",
       "12         µg/g            ug/g  \n",
       "13  per mil PDB  [per_mil]{PDB}  \n",
       "14         pptv          [pptv]  "
      ]
     },
     "execution_count": 285,
     "metadata": {},
     "output_type": "execute_result"
    }
   ],
   "source": [
    "df_quantity_null.head(10)"
   ]
  },
  {
   "cell_type": "code",
   "execution_count": 286,
   "metadata": {},
   "outputs": [
    {
     "name": "stdout",
     "output_type": "stream",
     "text": [
      "<class 'pandas.core.frame.DataFrame'>\n",
      "Int64Index: 103299 entries, 5 to 158024\n",
      "Data columns (total 4 columns):\n",
      "ID parameter    103299 non-null int64\n",
      "Parameter       103299 non-null object\n",
      "Unit            67545 non-null object\n",
      "Ucum            61257 non-null object\n",
      "dtypes: int64(1), object(3)\n",
      "memory usage: 3.9+ MB\n"
     ]
    }
   ],
   "source": [
    "df_quantity_null.info()"
   ]
  },
  {
   "cell_type": "code",
   "execution_count": 287,
   "metadata": {},
   "outputs": [
    {
     "data": {
      "text/plain": [
       "'C:\\\\Users\\\\asd\\\\python-workspace\\\\zucchini\\\\Output\\\\params_qnull_20180712160425.csv'"
      ]
     },
     "execution_count": 287,
     "metadata": {},
     "output_type": "execute_result"
    }
   ],
   "source": [
    "import time\n",
    "timestr = time.strftime(\"%Y%m%d%H%M%S\")\n",
    "outputFile = os.path.join(main_dir, \"Output\"+\"\\params_qnull_\"+timestr+\".csv\")\n",
    "outputFile"
   ]
  },
  {
   "cell_type": "code",
   "execution_count": 288,
   "metadata": {
    "collapsed": true
   },
   "outputs": [],
   "source": [
    "df_quantity_null.to_csv(outputFile, sep='\\t', encoding='utf-8')"
   ]
  },
  {
   "cell_type": "code",
   "execution_count": null,
   "metadata": {
    "collapsed": true
   },
   "outputs": [],
   "source": []
  }
 ],
 "metadata": {
  "kernelspec": {
   "display_name": "Python 3",
   "language": "python",
   "name": "python3"
  },
  "language_info": {
   "codemirror_mode": {
    "name": "ipython",
    "version": 3
   },
   "file_extension": ".py",
   "mimetype": "text/x-python",
   "name": "python",
   "nbconvert_exporter": "python",
   "pygments_lexer": "ipython3",
   "version": "3.6.3"
  }
 },
 "nbformat": 4,
 "nbformat_minor": 2
}
